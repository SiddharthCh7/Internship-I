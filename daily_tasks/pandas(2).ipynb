{
 "cells": [
  {
   "cell_type": "code",
   "execution_count": 1,
   "id": "af197994",
   "metadata": {},
   "outputs": [],
   "source": [
    "import pandas as pd"
   ]
  },
  {
   "cell_type": "code",
   "execution_count": 2,
   "id": "8ba5fd30",
   "metadata": {},
   "outputs": [],
   "source": [
    "data = pd.read_csv(r\"F:\\LPU\\Data\\Datasets\\Retail sales\\retail_sales_dataset.csv\")"
   ]
  },
  {
   "cell_type": "code",
   "execution_count": 3,
   "id": "dae1d2fb",
   "metadata": {},
   "outputs": [
    {
     "data": {
      "text/html": [
       "<div>\n",
       "<style scoped>\n",
       "    .dataframe tbody tr th:only-of-type {\n",
       "        vertical-align: middle;\n",
       "    }\n",
       "\n",
       "    .dataframe tbody tr th {\n",
       "        vertical-align: top;\n",
       "    }\n",
       "\n",
       "    .dataframe thead th {\n",
       "        text-align: right;\n",
       "    }\n",
       "</style>\n",
       "<table border=\"1\" class=\"dataframe\">\n",
       "  <thead>\n",
       "    <tr style=\"text-align: right;\">\n",
       "      <th></th>\n",
       "      <th>Transaction ID</th>\n",
       "      <th>Date</th>\n",
       "      <th>Customer ID</th>\n",
       "      <th>Gender</th>\n",
       "      <th>Age</th>\n",
       "      <th>Product Category</th>\n",
       "      <th>Quantity</th>\n",
       "      <th>Price per Unit</th>\n",
       "      <th>Total Amount</th>\n",
       "    </tr>\n",
       "  </thead>\n",
       "  <tbody>\n",
       "    <tr>\n",
       "      <th>0</th>\n",
       "      <td>1</td>\n",
       "      <td>2023-11-24</td>\n",
       "      <td>CUST001</td>\n",
       "      <td>Male</td>\n",
       "      <td>34</td>\n",
       "      <td>Beauty</td>\n",
       "      <td>3</td>\n",
       "      <td>50</td>\n",
       "      <td>150</td>\n",
       "    </tr>\n",
       "    <tr>\n",
       "      <th>1</th>\n",
       "      <td>2</td>\n",
       "      <td>2023-02-27</td>\n",
       "      <td>CUST002</td>\n",
       "      <td>Female</td>\n",
       "      <td>26</td>\n",
       "      <td>Clothing</td>\n",
       "      <td>2</td>\n",
       "      <td>500</td>\n",
       "      <td>1000</td>\n",
       "    </tr>\n",
       "    <tr>\n",
       "      <th>2</th>\n",
       "      <td>3</td>\n",
       "      <td>2023-01-13</td>\n",
       "      <td>CUST003</td>\n",
       "      <td>Male</td>\n",
       "      <td>50</td>\n",
       "      <td>Electronics</td>\n",
       "      <td>1</td>\n",
       "      <td>30</td>\n",
       "      <td>30</td>\n",
       "    </tr>\n",
       "    <tr>\n",
       "      <th>3</th>\n",
       "      <td>4</td>\n",
       "      <td>2023-05-21</td>\n",
       "      <td>CUST004</td>\n",
       "      <td>Male</td>\n",
       "      <td>37</td>\n",
       "      <td>Clothing</td>\n",
       "      <td>1</td>\n",
       "      <td>500</td>\n",
       "      <td>500</td>\n",
       "    </tr>\n",
       "    <tr>\n",
       "      <th>4</th>\n",
       "      <td>5</td>\n",
       "      <td>2023-05-06</td>\n",
       "      <td>CUST005</td>\n",
       "      <td>Male</td>\n",
       "      <td>30</td>\n",
       "      <td>Beauty</td>\n",
       "      <td>2</td>\n",
       "      <td>50</td>\n",
       "      <td>100</td>\n",
       "    </tr>\n",
       "  </tbody>\n",
       "</table>\n",
       "</div>"
      ],
      "text/plain": [
       "   Transaction ID        Date Customer ID  Gender  Age Product Category  \\\n",
       "0               1  2023-11-24     CUST001    Male   34           Beauty   \n",
       "1               2  2023-02-27     CUST002  Female   26         Clothing   \n",
       "2               3  2023-01-13     CUST003    Male   50      Electronics   \n",
       "3               4  2023-05-21     CUST004    Male   37         Clothing   \n",
       "4               5  2023-05-06     CUST005    Male   30           Beauty   \n",
       "\n",
       "   Quantity  Price per Unit  Total Amount  \n",
       "0         3              50           150  \n",
       "1         2             500          1000  \n",
       "2         1              30            30  \n",
       "3         1             500           500  \n",
       "4         2              50           100  "
      ]
     },
     "execution_count": 3,
     "metadata": {},
     "output_type": "execute_result"
    }
   ],
   "source": [
    "df = pd.DataFrame(data)\n",
    "df.head(5)"
   ]
  },
  {
   "cell_type": "code",
   "execution_count": 4,
   "id": "5875b3a6",
   "metadata": {},
   "outputs": [
    {
     "name": "stdout",
     "output_type": "stream",
     "text": [
      "0\n",
      "Transaction ID : <class 'str'>\n",
      "1\n",
      "Date : <class 'str'>\n",
      "2\n",
      "Customer ID : <class 'str'>\n",
      "3\n",
      "Gender : <class 'str'>\n",
      "4\n",
      "Age : <class 'str'>\n",
      "5\n",
      "Product Category : <class 'str'>\n",
      "6\n",
      "Quantity : <class 'str'>\n",
      "7\n",
      "Price per Unit : <class 'str'>\n",
      "8\n",
      "Total Amount : <class 'str'>\n"
     ]
    }
   ],
   "source": [
    "for a,i in enumerate(df):\n",
    "    print(a)\n",
    "    print(i+\" :\",type(i))"
   ]
  },
  {
   "cell_type": "code",
   "execution_count": 5,
   "id": "1e79b796",
   "metadata": {},
   "outputs": [
    {
     "name": "stdout",
     "output_type": "stream",
     "text": [
      "Transaction ID               int32\n",
      "Date                datetime64[ns]\n",
      "Customer ID                 string\n",
      "Gender                      string\n",
      "Age                          int32\n",
      "Product Category            string\n",
      "Quantity                     int32\n",
      "Price per Unit             float64\n",
      "Total Amount               float64\n",
      "dtype: object\n"
     ]
    }
   ],
   "source": [
    "x = [int, 'datetime64[ns]', 'string', 'string', int, 'string', int, float, float]\n",
    "for a, i in enumerate(df.columns):\n",
    "    df[i] = df[i].astype(x[a])\n",
    "print(df.dtypes)"
   ]
  },
  {
   "cell_type": "code",
   "execution_count": 6,
   "id": "1d64da47",
   "metadata": {},
   "outputs": [
    {
     "data": {
      "text/plain": [
       "<StringArray>\n",
       "['Male', 'Female']\n",
       "Length: 2, dtype: string"
      ]
     },
     "execution_count": 6,
     "metadata": {},
     "output_type": "execute_result"
    }
   ],
   "source": [
    "df['Gender'].unique()"
   ]
  },
  {
   "cell_type": "code",
   "execution_count": 7,
   "id": "4ada1e82",
   "metadata": {},
   "outputs": [
    {
     "name": "stdout",
     "output_type": "stream",
     "text": [
      "No null values\n"
     ]
    }
   ],
   "source": [
    "val = 0\n",
    "for i in df:\n",
    "    if df[i].isnull().any():\n",
    "        val = 1\n",
    "print(val if val else \"No null values\")"
   ]
  },
  {
   "cell_type": "code",
   "execution_count": 8,
   "id": "7b3b24d8",
   "metadata": {},
   "outputs": [],
   "source": [
    "for col in df.columns:\n",
    "    col_lower = col.lower()\n",
    "    if 'id' in col_lower:\n",
    "        for index, value in df[col].items():\n",
    "            if pd.isnull(value):\n",
    "                df.drop(index, inplace=True)"
   ]
  },
  {
   "cell_type": "code",
   "execution_count": 9,
   "id": "6744d4a8",
   "metadata": {},
   "outputs": [],
   "source": [
    "for col in df.columns:\n",
    "    col_lower = col.lower()\n",
    "    if 'id' in col_lower:\n",
    "        df.drop_duplicates(subset=[col], keep='first', inplace=True)"
   ]
  },
  {
   "cell_type": "code",
   "execution_count": 10,
   "id": "4815da51",
   "metadata": {},
   "outputs": [
    {
     "name": "stdout",
     "output_type": "stream",
     "text": [
      "Count of Transaction ID = 1000\n",
      "Count of Customer ID = 1000\n"
     ]
    }
   ],
   "source": [
    "for col in df.columns:\n",
    "    col_lower = col.lower()\n",
    "    if 'id' in col_lower:\n",
    "        print(f\"Count of {col} = {df[col].count()}\")"
   ]
  },
  {
   "cell_type": "code",
   "execution_count": 11,
   "id": "b9582bb2",
   "metadata": {},
   "outputs": [
    {
     "name": "stdout",
     "output_type": "stream",
     "text": [
      "Unique genders present are: Male,Female\n"
     ]
    }
   ],
   "source": [
    "for col in df.columns:\n",
    "    col_lower = col.lower()\n",
    "    if 'gender' in col_lower:\n",
    "        temp = df[col].unique()\n",
    "        print(\"Unique genders present are: \",end=\"\")\n",
    "        for value in range(len(temp)):\n",
    "            if value == len(temp)-1:\n",
    "                print(temp[value])\n",
    "            else:\n",
    "                print(temp[value],end=\",\")"
   ]
  },
  {
   "cell_type": "code",
   "execution_count": null,
   "id": "f4a04586",
   "metadata": {},
   "outputs": [],
   "source": [
    "\n",
    "        "
   ]
  },
  {
   "cell_type": "code",
   "execution_count": 12,
   "id": "d909d2d2",
   "metadata": {},
   "outputs": [
    {
     "name": "stdout",
     "output_type": "stream",
     "text": [
      "0-20: 42\n",
      "21-40: 400\n",
      "41-60: 443\n",
      "61-80: 115\n",
      "81-100: 0\n",
      ">100: 0\n"
     ]
    }
   ],
   "source": [
    "bins = [0, 20, 40, 60, 80, 100, 200]  # Define your age ranges here\n",
    "labels = ['0-20', '21-40', '41-60', '61-80', '81-100', '>100']  # Labels for the ranges\n",
    "\n",
    "# Create age range categories\n",
    "df['Age Range'] = pd.cut(df['Age'], bins=bins, labels=labels, right=False)\n",
    "\n",
    "# Count values in each range\n",
    "range_counts = df['Age Range'].value_counts().sort_index()\n",
    "\n",
    "# Print the counts\n",
    "for range_label, count in range_counts.items():\n",
    "    print(f\"{range_label}: {count}\")"
   ]
  },
  {
   "cell_type": "code",
   "execution_count": 13,
   "id": "a084c728",
   "metadata": {},
   "outputs": [
    {
     "name": "stdout",
     "output_type": "stream",
     "text": [
      "Sum of Price per Unit = 179890.0\n",
      "Sum of Total Amount = 456000.0\n"
     ]
    }
   ],
   "source": [
    "for col in df:\n",
    "    col_lower = col.lower()\n",
    "    if any(keyword in col_lower for keyword in ['amount', 'revenue', 'price', 'cost']):\n",
    "        print(f\"Sum of {col} = {sum(df[col])}\")"
   ]
  },
  {
   "cell_type": "code",
   "execution_count": null,
   "id": "d008c3ce",
   "metadata": {},
   "outputs": [],
   "source": []
  },
  {
   "cell_type": "code",
   "execution_count": null,
   "id": "bd1be956",
   "metadata": {},
   "outputs": [],
   "source": []
  }
 ],
 "metadata": {
  "kernelspec": {
   "display_name": "Python 3 (ipykernel)",
   "language": "python",
   "name": "python3"
  },
  "language_info": {
   "codemirror_mode": {
    "name": "ipython",
    "version": 3
   },
   "file_extension": ".py",
   "mimetype": "text/x-python",
   "name": "python",
   "nbconvert_exporter": "python",
   "pygments_lexer": "ipython3",
   "version": "3.11.4"
  }
 },
 "nbformat": 4,
 "nbformat_minor": 5
}
