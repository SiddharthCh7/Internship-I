{
 "cells": [
  {
   "cell_type": "markdown",
   "id": "f0a18b8b",
   "metadata": {},
   "source": [
    "# Area Calculator"
   ]
  },
  {
   "cell_type": "code",
   "execution_count": 1,
   "id": "313bb28e",
   "metadata": {},
   "outputs": [
    {
     "name": "stdout",
     "output_type": "stream",
     "text": [
      "250\n"
     ]
    }
   ],
   "source": [
    "def Calculate_area(shape, dimensions):\n",
    "    shape=shape.lower()\n",
    "    if shape==\"rectangle\":\n",
    "        return dimensions[\"length\"] * dimensions[\"width\"]\n",
    "    if shape==\"square\":\n",
    "        return dimensions[\"side\"]**2\n",
    "    if shape==\"circle\":\n",
    "        return 3.14*(dimensions[\"radius\"]**2)\n",
    "    if shape==\"triangle\":\n",
    "        return 0.5 * dimensions[\"base\"]*dimensions[\"height\"]\n",
    "    else:\n",
    "        return \"Invalid shape!\"\n",
    "shapes=[\"rectangle\",\"square\",\"triangle\",\"circle\"]\n",
    "shape=shapes[0]\n",
    "dimensions={\"length\":10,\"width\":25}\n",
    "print(Calculate_area(shape,dimensions))"
   ]
  },
  {
   "cell_type": "markdown",
   "id": "bd118888",
   "metadata": {},
   "source": [
    "# String Manipulation"
   ]
  },
  {
   "cell_type": "code",
   "execution_count": 34,
   "id": "8c14929a",
   "metadata": {},
   "outputs": [
    {
     "name": "stdout",
     "output_type": "stream",
     "text": [
      "iH yM emaN si diS \n"
     ]
    }
   ],
   "source": [
    "def reverse_words(text):\n",
    "    res=\"\"\n",
    "    text=text.split()\n",
    "    for i in text:\n",
    "        res += i[::-1]\n",
    "        res += \" \"\n",
    "    return res\n",
    "text=\"Hi My Name is Sid\"\n",
    "print(reverse_words(text))"
   ]
  },
  {
   "cell_type": "markdown",
   "id": "ada94280",
   "metadata": {},
   "source": [
    "# List Statistics"
   ]
  },
  {
   "cell_type": "code",
   "execution_count": 35,
   "id": "6cd903eb",
   "metadata": {},
   "outputs": [
    {
     "name": "stdout",
     "output_type": "stream",
     "text": [
      "{'Maximum': 45, 'Minimum': 10, 'Average': 23.666666666666668}\n"
     ]
    }
   ],
   "source": [
    "def analyze_list(numbers):\n",
    "    d={}\n",
    "    d[\"Maximum\"]=max(numbers)\n",
    "    d[\"Minimum\"]=min(numbers)\n",
    "    d[\"Average\"]=sum(numbers)/len(numbers)   \n",
    "    return d\n",
    "\n",
    "numbers=[10,20,45,23,12,32]\n",
    "print(analyze_list(numbers))"
   ]
  },
  {
   "cell_type": "markdown",
   "id": "f3a22ca5",
   "metadata": {},
   "source": [
    "# Filtering with Lambda"
   ]
  },
  {
   "cell_type": "code",
   "execution_count": 42,
   "id": "0a7fa229",
   "metadata": {},
   "outputs": [
    {
     "name": "stdout",
     "output_type": "stream",
     "text": [
      "['mobile', 'laptop', 'camera']\n"
     ]
    }
   ],
   "source": [
    "def filter_short_names(names, max_length):\n",
    "    num=filter(lambda x:len(x)<=max_length,names)\n",
    "    return list(num)\n",
    "names=[\"mobile\",\"laptop\",\"computer\",\"camera\",\"microphone\"]\n",
    "max_length=6\n",
    "print(filter_short_names(names, max_length))"
   ]
  },
  {
   "cell_type": "markdown",
   "id": "cc6f6626",
   "metadata": {},
   "source": [
    "# Text Analyzer"
   ]
  },
  {
   "cell_type": "code",
   "execution_count": 59,
   "id": "25221550",
   "metadata": {},
   "outputs": [
    {
     "name": "stdout",
     "output_type": "stream",
     "text": [
      "word count: 5 | char count: 17\n",
      "dictionary: {'t': 3, 'h': 1, 'i': 2, 's': 2, 'a': 2, 'r': 1, 'n': 1, 'd': 1, 'o': 1, 'm': 1, 'e': 1, 'x': 1}\n",
      "most frequent word: t\n"
     ]
    }
   ],
   "source": [
    "def analyze_text(text):\n",
    "    text=text.lower()\n",
    "    word_count = len(text.split())\n",
    "    d={}\n",
    "    char_count=0\n",
    "    for i in text:\n",
    "        if i == \" \":\n",
    "            continue\n",
    "        if i not in d:\n",
    "            d[i]=1\n",
    "        else:\n",
    "            d[i]+=1\n",
    "        char_count += 1\n",
    "    mfi = \"\"\n",
    "    for x,y in d.items():\n",
    "        if y == max(d.values()):\n",
    "            mfi += x\n",
    "    return f\"word count: {word_count} | char count: {char_count}\\ndictionary: {d}\\nmost frequent word: {mfi}\"\n",
    "\n",
    "text = \"This is a random text\"\n",
    "print(analyze_text(text))"
   ]
  }
 ],
 "metadata": {
  "kernelspec": {
   "display_name": "Python 3 (ipykernel)",
   "language": "python",
   "name": "python3"
  },
  "language_info": {
   "codemirror_mode": {
    "name": "ipython",
    "version": 3
   },
   "file_extension": ".py",
   "mimetype": "text/x-python",
   "name": "python",
   "nbconvert_exporter": "python",
   "pygments_lexer": "ipython3",
   "version": "3.11.4"
  }
 },
 "nbformat": 4,
 "nbformat_minor": 5
}
