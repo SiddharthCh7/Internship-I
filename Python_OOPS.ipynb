{
 "cells": [
  {
   "cell_type": "markdown",
   "id": "900be897",
   "metadata": {},
   "source": [
    "# Object-Oriented Programming"
   ]
  },
  {
   "cell_type": "code",
   "execution_count": 6,
   "id": "ca4012c3",
   "metadata": {},
   "outputs": [
    {
     "name": "stdout",
     "output_type": "stream",
     "text": [
      "0\n",
      "1\n"
     ]
    }
   ],
   "source": [
    "class Internship:\n",
    "    var=0\n",
    "    def increment(self):\n",
    "        Internship.var+=1\n",
    "obj1=Internship()\n",
    "print(obj1.var)\n",
    "obj1.increment()\n",
    "print(obj1.var)"
   ]
  },
  {
   "cell_type": "code",
   "execution_count": 13,
   "id": "c391d406",
   "metadata": {},
   "outputs": [
    {
     "name": "stdout",
     "output_type": "stream",
     "text": [
      "True\n",
      "False\n",
      "True\n",
      "False\n"
     ]
    }
   ],
   "source": [
    "class InternshipMath:\n",
    "    @staticmethod\n",
    "    def is_even(s):\n",
    "        return s % 2 == 0\n",
    "\n",
    "    @staticmethod\n",
    "    def is_odd(s):\n",
    "        if s < 1:\n",
    "            return False\n",
    "        return s % 2 != 0\n",
    "\n",
    "\n",
    "print(InternshipMath.is_even(2))\n",
    "print(InternshipMath.is_odd(2))\n",
    "print(InternshipMath.is_even(6))\n",
    "print(InternshipMath.is_odd(6))"
   ]
  },
  {
   "cell_type": "code",
   "execution_count": 15,
   "id": "82a330a3",
   "metadata": {},
   "outputs": [
    {
     "name": "stdout",
     "output_type": "stream",
     "text": [
      "name: Sid\n",
      "University: Lpu\n"
     ]
    }
   ],
   "source": [
    "class Initializer:\n",
    "    def __init__(self,name,uni):\n",
    "        self.name=name\n",
    "        self.uni=uni\n",
    "        \n",
    "obj = Initializer(\"Sid\",\"Lpu\")\n",
    "print(\"name: \"+obj.name)\n",
    "print(\"University: \"+obj.uni)"
   ]
  },
  {
   "cell_type": "code",
   "execution_count": 32,
   "id": "3012682b",
   "metadata": {},
   "outputs": [
    {
     "name": "stdout",
     "output_type": "stream",
     "text": [
      "Sid is studying in Lpu\n"
     ]
    }
   ],
   "source": [
    "class Initializer_2:\n",
    "    def __init__(self,name,uni):\n",
    "        self.name=name\n",
    "        self.uni=uni\n",
    "    def __str__(self):\n",
    "        return self.name+\" is studying in \"+self.uni\n",
    "            \n",
    "obj = Initializer_2(\"Sid\",\"Lpu\")\n",
    "print(obj)"
   ]
  },
  {
   "cell_type": "code",
   "execution_count": 36,
   "id": "876a4175",
   "metadata": {},
   "outputs": [
    {
     "name": "stdout",
     "output_type": "stream",
     "text": [
      "Sid is in the '3' academic year\n"
     ]
    }
   ],
   "source": [
    "class Initializer_2:\n",
    "    def __init__(self,name,year):\n",
    "        self.name=name\n",
    "        self.year=year\n",
    "    def message(self):\n",
    "        return self.name+\" is in the \"+\"'\"+self.year+\"'\"+ \" academic year\"\n",
    "            \n",
    "obj = Initializer_2(\"Sid\",\"3\")\n",
    "print(obj.message())"
   ]
  },
  {
   "cell_type": "code",
   "execution_count": 40,
   "id": "bdb66615",
   "metadata": {},
   "outputs": [
    {
     "name": "stdout",
     "output_type": "stream",
     "text": [
      "Creating a new instance of God\n",
      "Sid (20)\n"
     ]
    }
   ],
   "source": [
    "class God:\n",
    "    def __new__(cls, *args, **kwargs):\n",
    "        print(\"Creating a new instance of God\")\n",
    "        return super(God, cls).__new__(cls)\n",
    "\n",
    "    def __init__(self, name, age):\n",
    "        self.name = name\n",
    "        self.age = age\n",
    "\n",
    "    def __str__(self):\n",
    "        return f\"{self.name} ({self.age})\"\n",
    "\n",
    "God1 = God(\"Sid\", 20)\n",
    "print(God1)"
   ]
  },
  {
   "cell_type": "code",
   "execution_count": 47,
   "id": "79479ee4",
   "metadata": {},
   "outputs": [
    {
     "name": "stdout",
     "output_type": "stream",
     "text": [
      "110\n"
     ]
    }
   ],
   "source": [
    "class ObjectAsAnArgument:\n",
    "    def __init__(self,num):\n",
    "        self.val = num\n",
    "    def update(self,num):\n",
    "        self.val+=num\n",
    "obj1=ObjectAsAnArgument(10)\n",
    "obj1.update(100)\n",
    "print(obj1.val)"
   ]
  },
  {
   "cell_type": "code",
   "execution_count": 50,
   "id": "ae4555e2",
   "metadata": {},
   "outputs": [
    {
     "name": "stdout",
     "output_type": "stream",
     "text": [
      "0\n",
      "7\n"
     ]
    }
   ],
   "source": [
    "class PrivateVar:\n",
    "    def __init__(self):\n",
    "        self.__private_var = 0\n",
    "    def set_private_var(self,val):\n",
    "        self.__private_var = val\n",
    "    def get_private_var(self):\n",
    "        return self.__private_var\n",
    "        \n",
    "obj = PrivateVar()\n",
    "print(obj.get_private_var())\n",
    "obj.set_private_var(7)\n",
    "print(obj.get_private_var())"
   ]
  },
  {
   "cell_type": "code",
   "execution_count": 58,
   "id": "e93776dd",
   "metadata": {},
   "outputs": [
    {
     "name": "stdout",
     "output_type": "stream",
     "text": [
      "90000\n",
      "600000\n"
     ]
    }
   ],
   "source": [
    "class Salary:\n",
    "    def __init__(self, name, age, salary):\n",
    "        self.name = name\n",
    "        self.age = age\n",
    "        \n",
    "        self.__salary = salary\n",
    "\n",
    "    def get_salary(self):\n",
    "        return self.__salary\n",
    "\n",
    "    def set_salary(self, new_salary):\n",
    "        if new_salary > 0:\n",
    "            self.__salary = new_salary\n",
    "        else:\n",
    "            print(\"Invalid salary\")\n",
    "\n",
    "employee = Salary(\"Sid\", 20, 90000)\n",
    "\n",
    "\n",
    "print(employee.get_salary())\n",
    "\n",
    "\n",
    "employee.set_salary(600000)\n",
    "\n",
    "print(employee.get_salary())"
   ]
  },
  {
   "cell_type": "code",
   "execution_count": 57,
   "id": "b2ed772b",
   "metadata": {},
   "outputs": [
    {
     "name": "stdout",
     "output_type": "stream",
     "text": [
      "7\n"
     ]
    }
   ],
   "source": [
    "class HiddenVar:\n",
    "    def __init__(self):\n",
    "        self.__hidden_var = 0\n",
    "\n",
    "    def get_hidden_var(self):\n",
    "        return self.__hidden_var\n",
    "\n",
    "    def set_hidden_var(self, val):\n",
    "        self.__hidden_var = val\n",
    "\n",
    "obj = HiddenVar()\n",
    "\n",
    "obj.set_hidden_var(7)\n",
    "\n",
    "print(obj.get_hidden_var())"
   ]
  },
  {
   "cell_type": "code",
   "execution_count": null,
   "id": "cc5cb80c",
   "metadata": {},
   "outputs": [],
   "source": []
  }
 ],
 "metadata": {
  "kernelspec": {
   "display_name": "Python 3 (ipykernel)",
   "language": "python",
   "name": "python3"
  },
  "language_info": {
   "codemirror_mode": {
    "name": "ipython",
    "version": 3
   },
   "file_extension": ".py",
   "mimetype": "text/x-python",
   "name": "python",
   "nbconvert_exporter": "python",
   "pygments_lexer": "ipython3",
   "version": "3.11.4"
  }
 },
 "nbformat": 4,
 "nbformat_minor": 5
}
