{
 "cells": [
  {
   "cell_type": "code",
   "execution_count": 121,
   "metadata": {},
   "outputs": [],
   "source": [
    "import numpy as np\n",
    "import pandas as pd\n",
    "import matplotlib.pyplot as plt"
   ]
  },
  {
   "cell_type": "code",
   "execution_count": 122,
   "metadata": {},
   "outputs": [],
   "source": [
    "df = pd.DataFrame(pd.read_excel(r\"F:\\LPU\\Data\\Datasets\\Internship datasets\\UsPathway\\US Pathway Complete Data.xlsx\", sheet_name='Candidate Application Tracker'))"
   ]
  },
  {
   "cell_type": "code",
   "execution_count": 123,
   "metadata": {},
   "outputs": [],
   "source": [
    "df = df.drop('S. No.', axis=1)"
   ]
  },
  {
   "cell_type": "code",
   "execution_count": 124,
   "metadata": {},
   "outputs": [
    {
     "data": {
      "text/html": [
       "<div>\n",
       "<style scoped>\n",
       "    .dataframe tbody tr th:only-of-type {\n",
       "        vertical-align: middle;\n",
       "    }\n",
       "\n",
       "    .dataframe tbody tr th {\n",
       "        vertical-align: top;\n",
       "    }\n",
       "\n",
       "    .dataframe thead th {\n",
       "        text-align: right;\n",
       "    }\n",
       "</style>\n",
       "<table border=\"1\" class=\"dataframe\">\n",
       "  <thead>\n",
       "    <tr style=\"text-align: right;\">\n",
       "      <th></th>\n",
       "      <th>Candidate Name</th>\n",
       "      <th>Counselor Name</th>\n",
       "      <th>Block Amount Received Date</th>\n",
       "      <th>Univ. Pitched</th>\n",
       "      <th>Lead Id</th>\n",
       "      <th>Candidate Preferred College #1</th>\n",
       "      <th>Candidate Preferred College #2</th>\n",
       "      <th>10th Percentage</th>\n",
       "      <th>12th Percentange</th>\n",
       "      <th>UG - CGPA (out of 10)</th>\n",
       "      <th>...</th>\n",
       "      <th>Offer Letter Submission Date</th>\n",
       "      <th>.9</th>\n",
       "      <th>Financials Submission</th>\n",
       "      <th>Financials Submission Date</th>\n",
       "      <th>i20 Provisioned</th>\n",
       "      <th>i20 Provisioned Date</th>\n",
       "      <th>Remarks</th>\n",
       "      <th>Status</th>\n",
       "      <th>SOP Status</th>\n",
       "      <th>.10</th>\n",
       "    </tr>\n",
       "  </thead>\n",
       "  <tbody>\n",
       "    <tr>\n",
       "      <th>0</th>\n",
       "      <td>Vikash</td>\n",
       "      <td>Shailendra Singh</td>\n",
       "      <td>45152</td>\n",
       "      <td>Rutgers</td>\n",
       "      <td>NaN</td>\n",
       "      <td>Rutgers Business School</td>\n",
       "      <td>NaN</td>\n",
       "      <td>NaN</td>\n",
       "      <td>NaN</td>\n",
       "      <td>7.099</td>\n",
       "      <td>...</td>\n",
       "      <td>NaN</td>\n",
       "      <td>NaN</td>\n",
       "      <td>1.0</td>\n",
       "      <td>NaN</td>\n",
       "      <td>Received</td>\n",
       "      <td>14/03/2024</td>\n",
       "      <td>NaN</td>\n",
       "      <td>Defer Fall</td>\n",
       "      <td>NaN</td>\n",
       "      <td>NaN</td>\n",
       "    </tr>\n",
       "    <tr>\n",
       "      <th>1</th>\n",
       "      <td>Hariraj</td>\n",
       "      <td>Shailendra Singh</td>\n",
       "      <td>45188</td>\n",
       "      <td>Fairfield/DePaul</td>\n",
       "      <td>NaN</td>\n",
       "      <td>DePaul Kellstadt Graduate School of Business</td>\n",
       "      <td>NaN</td>\n",
       "      <td>NaN</td>\n",
       "      <td>NaN</td>\n",
       "      <td>7.95</td>\n",
       "      <td>...</td>\n",
       "      <td>NaN</td>\n",
       "      <td>NaN</td>\n",
       "      <td>0.0</td>\n",
       "      <td>NaN</td>\n",
       "      <td>NaN</td>\n",
       "      <td>NaN</td>\n",
       "      <td>On Hold due to CX In Hospital</td>\n",
       "      <td>Defer Fall</td>\n",
       "      <td>NaN</td>\n",
       "      <td>NaN</td>\n",
       "    </tr>\n",
       "    <tr>\n",
       "      <th>2</th>\n",
       "      <td>Thippesh</td>\n",
       "      <td>Shailendra Singh</td>\n",
       "      <td>45190</td>\n",
       "      <td>Rutgers</td>\n",
       "      <td>NaN</td>\n",
       "      <td>Rutgers Business School</td>\n",
       "      <td>NaN</td>\n",
       "      <td>NaN</td>\n",
       "      <td>NaN</td>\n",
       "      <td>7.87</td>\n",
       "      <td>...</td>\n",
       "      <td>NaN</td>\n",
       "      <td>NaN</td>\n",
       "      <td>1.0</td>\n",
       "      <td>20/02/2024</td>\n",
       "      <td>Received</td>\n",
       "      <td>20/02/2024</td>\n",
       "      <td>NaN</td>\n",
       "      <td>Defer Fall</td>\n",
       "      <td>NaN</td>\n",
       "      <td>NaN</td>\n",
       "    </tr>\n",
       "    <tr>\n",
       "      <th>3</th>\n",
       "      <td>Chintan</td>\n",
       "      <td>Shailendra Singh</td>\n",
       "      <td>45202</td>\n",
       "      <td>DePaul</td>\n",
       "      <td>NaN</td>\n",
       "      <td>DePaul Kellstadt Graduate School of Business</td>\n",
       "      <td>NaN</td>\n",
       "      <td>NaN</td>\n",
       "      <td>NaN</td>\n",
       "      <td>10</td>\n",
       "      <td>...</td>\n",
       "      <td>NaN</td>\n",
       "      <td>NaN</td>\n",
       "      <td>1.0</td>\n",
       "      <td>NaN</td>\n",
       "      <td>Received</td>\n",
       "      <td>28/03/2024</td>\n",
       "      <td>was On Hold due to family issues</td>\n",
       "      <td>Defer Fall (Dropped)</td>\n",
       "      <td>NaN</td>\n",
       "      <td>NaN</td>\n",
       "    </tr>\n",
       "    <tr>\n",
       "      <th>4</th>\n",
       "      <td>Sagar</td>\n",
       "      <td>Shailendra Singh</td>\n",
       "      <td>45181</td>\n",
       "      <td>Rutgers</td>\n",
       "      <td>NaN</td>\n",
       "      <td>Rutgers Business School</td>\n",
       "      <td>NaN</td>\n",
       "      <td>NaN</td>\n",
       "      <td>NaN</td>\n",
       "      <td>7.42</td>\n",
       "      <td>...</td>\n",
       "      <td>45224.0</td>\n",
       "      <td>NaN</td>\n",
       "      <td>1.0</td>\n",
       "      <td>18/02/2024</td>\n",
       "      <td>Received</td>\n",
       "      <td>21/02/2024</td>\n",
       "      <td>NaN</td>\n",
       "      <td>Defer Fall</td>\n",
       "      <td>NaN</td>\n",
       "      <td>NaN</td>\n",
       "    </tr>\n",
       "  </tbody>\n",
       "</table>\n",
       "<p>5 rows × 142 columns</p>\n",
       "</div>"
      ],
      "text/plain": [
       "  Candidate Name     Counselor Name Block Amount Received Date  \\\n",
       "0         Vikash  Shailendra Singh                       45152   \n",
       "1        Hariraj  Shailendra Singh                       45188   \n",
       "2       Thippesh  Shailendra Singh                       45190   \n",
       "3        Chintan  Shailendra Singh                       45202   \n",
       "4          Sagar  Shailendra Singh                       45181   \n",
       "\n",
       "      Univ. Pitched Lead Id                Candidate Preferred College #1  \\\n",
       "0           Rutgers     NaN                       Rutgers Business School   \n",
       "1  Fairfield/DePaul     NaN  DePaul Kellstadt Graduate School of Business   \n",
       "2           Rutgers     NaN                       Rutgers Business School   \n",
       "3            DePaul     NaN  DePaul Kellstadt Graduate School of Business   \n",
       "4           Rutgers     NaN                       Rutgers Business School   \n",
       "\n",
       "  Candidate Preferred College #2 10th Percentage  12th Percentange  \\\n",
       "0                            NaN              NaN              NaN   \n",
       "1                            NaN              NaN              NaN   \n",
       "2                            NaN              NaN              NaN   \n",
       "3                            NaN              NaN              NaN   \n",
       "4                            NaN              NaN              NaN   \n",
       "\n",
       "  UG - CGPA (out of 10)   ... Offer Letter Submission Date   .9  \\\n",
       "0                  7.099  ...                          NaN  NaN   \n",
       "1                   7.95  ...                          NaN  NaN   \n",
       "2                   7.87  ...                          NaN  NaN   \n",
       "3                     10  ...                          NaN  NaN   \n",
       "4                   7.42  ...                      45224.0  NaN   \n",
       "\n",
       "  Financials Submission Financials Submission Date i20 Provisioned  \\\n",
       "0                   1.0                        NaN        Received   \n",
       "1                   0.0                        NaN             NaN   \n",
       "2                   1.0                 20/02/2024        Received   \n",
       "3                   1.0                        NaN        Received   \n",
       "4                   1.0                 18/02/2024        Received   \n",
       "\n",
       "  i20 Provisioned Date                           Remarks  \\\n",
       "0           14/03/2024                               NaN   \n",
       "1                  NaN     On Hold due to CX In Hospital   \n",
       "2           20/02/2024                               NaN   \n",
       "3           28/03/2024  was On Hold due to family issues   \n",
       "4           21/02/2024                               NaN   \n",
       "\n",
       "                Status  SOP Status  .10  \n",
       "0            Defer Fall        NaN  NaN  \n",
       "1            Defer Fall        NaN  NaN  \n",
       "2            Defer Fall        NaN  NaN  \n",
       "3  Defer Fall (Dropped)        NaN  NaN  \n",
       "4            Defer Fall        NaN  NaN  \n",
       "\n",
       "[5 rows x 142 columns]"
      ]
     },
     "execution_count": 124,
     "metadata": {},
     "output_type": "execute_result"
    }
   ],
   "source": [
    "df.head()"
   ]
  },
  {
   "cell_type": "code",
   "execution_count": 125,
   "metadata": {},
   "outputs": [
    {
     "data": {
      "text/plain": [
       "np.int64(187)"
      ]
     },
     "execution_count": 125,
     "metadata": {},
     "output_type": "execute_result"
    }
   ],
   "source": [
    "df['Lead Id'].isnull().sum()"
   ]
  },
  {
   "cell_type": "code",
   "execution_count": 126,
   "metadata": {},
   "outputs": [
    {
     "data": {
      "text/plain": [
       "316"
      ]
     },
     "execution_count": 126,
     "metadata": {},
     "output_type": "execute_result"
    }
   ],
   "source": [
    "len(df)"
   ]
  },
  {
   "cell_type": "code",
   "execution_count": 127,
   "metadata": {},
   "outputs": [
    {
     "data": {
      "text/plain": [
       "np.int64(129)"
      ]
     },
     "execution_count": 127,
     "metadata": {},
     "output_type": "execute_result"
    }
   ],
   "source": [
    "df['Lead Id'].notnull().sum()"
   ]
  },
  {
   "cell_type": "code",
   "execution_count": 128,
   "metadata": {},
   "outputs": [
    {
     "data": {
      "text/plain": [
       "np.int64(186)"
      ]
     },
     "execution_count": 128,
     "metadata": {},
     "output_type": "execute_result"
    }
   ],
   "source": [
    "df[\"Lead Id\"].duplicated().sum()"
   ]
  },
  {
   "cell_type": "code",
   "execution_count": 129,
   "metadata": {},
   "outputs": [],
   "source": [
    "ndf = df[df['Lead Id'].notnull()]"
   ]
  },
  {
   "cell_type": "code",
   "execution_count": 130,
   "metadata": {},
   "outputs": [
    {
     "data": {
      "text/plain": [
       "np.int64(0)"
      ]
     },
     "execution_count": 130,
     "metadata": {},
     "output_type": "execute_result"
    }
   ],
   "source": [
    "ndf[\"Lead Id\"].duplicated().sum()"
   ]
  },
  {
   "cell_type": "code",
   "execution_count": 131,
   "metadata": {},
   "outputs": [
    {
     "data": {
      "text/plain": [
       "np.int64(0)"
      ]
     },
     "execution_count": 131,
     "metadata": {},
     "output_type": "execute_result"
    }
   ],
   "source": [
    "ndf[\"Lead Id\"].isnull().sum()"
   ]
  },
  {
   "cell_type": "code",
   "execution_count": 132,
   "metadata": {},
   "outputs": [
    {
     "data": {
      "text/html": [
       "<div>\n",
       "<style scoped>\n",
       "    .dataframe tbody tr th:only-of-type {\n",
       "        vertical-align: middle;\n",
       "    }\n",
       "\n",
       "    .dataframe tbody tr th {\n",
       "        vertical-align: top;\n",
       "    }\n",
       "\n",
       "    .dataframe thead th {\n",
       "        text-align: right;\n",
       "    }\n",
       "</style>\n",
       "<table border=\"1\" class=\"dataframe\">\n",
       "  <thead>\n",
       "    <tr style=\"text-align: right;\">\n",
       "      <th></th>\n",
       "      <th>Candidate Name</th>\n",
       "      <th>Counselor Name</th>\n",
       "      <th>Block Amount Received Date</th>\n",
       "      <th>Univ. Pitched</th>\n",
       "      <th>Lead Id</th>\n",
       "      <th>Candidate Preferred College #1</th>\n",
       "      <th>Candidate Preferred College #2</th>\n",
       "      <th>10th Percentage</th>\n",
       "      <th>12th Percentange</th>\n",
       "      <th>UG - CGPA (out of 10)</th>\n",
       "      <th>...</th>\n",
       "      <th>Offer Letter Submission Date</th>\n",
       "      <th>.9</th>\n",
       "      <th>Financials Submission</th>\n",
       "      <th>Financials Submission Date</th>\n",
       "      <th>i20 Provisioned</th>\n",
       "      <th>i20 Provisioned Date</th>\n",
       "      <th>Remarks</th>\n",
       "      <th>Status</th>\n",
       "      <th>SOP Status</th>\n",
       "      <th>.10</th>\n",
       "    </tr>\n",
       "  </thead>\n",
       "  <tbody>\n",
       "    <tr>\n",
       "      <th>15</th>\n",
       "      <td>Verana</td>\n",
       "      <td>Diptikanta Jena</td>\n",
       "      <td>45205</td>\n",
       "      <td>DePaul</td>\n",
       "      <td>l:747863164109985</td>\n",
       "      <td>NaN</td>\n",
       "      <td>NaN</td>\n",
       "      <td>NaN</td>\n",
       "      <td>NaN</td>\n",
       "      <td>NaN</td>\n",
       "      <td>...</td>\n",
       "      <td>NaN</td>\n",
       "      <td>NaN</td>\n",
       "      <td>0.0</td>\n",
       "      <td>NaN</td>\n",
       "      <td>NaN</td>\n",
       "      <td>NaN</td>\n",
       "      <td>NaN</td>\n",
       "      <td>Defer Fall (Dropped)</td>\n",
       "      <td>NaN</td>\n",
       "      <td>NaN</td>\n",
       "    </tr>\n",
       "    <tr>\n",
       "      <th>46</th>\n",
       "      <td>Shirish</td>\n",
       "      <td>Diptikanta Jena</td>\n",
       "      <td>45260</td>\n",
       "      <td>DePaul/Tulane</td>\n",
       "      <td>5ce45626-39b0-49cf-b777-51a3a5f2880d-6</td>\n",
       "      <td>DePaul Kellstadt Graduate School of Business</td>\n",
       "      <td>Clark University, School of Management</td>\n",
       "      <td>NaN</td>\n",
       "      <td>NaN</td>\n",
       "      <td>7.19</td>\n",
       "      <td>...</td>\n",
       "      <td>NaN</td>\n",
       "      <td>NaN</td>\n",
       "      <td>1.0</td>\n",
       "      <td>NaN</td>\n",
       "      <td>Received</td>\n",
       "      <td>45599</td>\n",
       "      <td>NaN</td>\n",
       "      <td>Fall</td>\n",
       "      <td>NaN</td>\n",
       "      <td>NaN</td>\n",
       "    </tr>\n",
       "    <tr>\n",
       "      <th>53</th>\n",
       "      <td>Tanya</td>\n",
       "      <td>Diptikanta Jena</td>\n",
       "      <td>45272</td>\n",
       "      <td>Fairfield/DePaul</td>\n",
       "      <td>l:900041774843171</td>\n",
       "      <td>DePaul Kellstadt Graduate School of Business</td>\n",
       "      <td>RIT, Saunders College of Business</td>\n",
       "      <td>NaN</td>\n",
       "      <td>NaN</td>\n",
       "      <td>6.34 ( 1 backlog )</td>\n",
       "      <td>...</td>\n",
       "      <td>NaN</td>\n",
       "      <td>NaN</td>\n",
       "      <td>0.0</td>\n",
       "      <td>NaN</td>\n",
       "      <td>NaN</td>\n",
       "      <td>NaN</td>\n",
       "      <td>NaN</td>\n",
       "      <td>Fall</td>\n",
       "      <td>NaN</td>\n",
       "      <td>NaN</td>\n",
       "    </tr>\n",
       "    <tr>\n",
       "      <th>54</th>\n",
       "      <td>Aditya</td>\n",
       "      <td>Shailendra Singh</td>\n",
       "      <td>45273</td>\n",
       "      <td>Drexel/SUNY/RBS/CWRU</td>\n",
       "      <td>23d26a27-e361-4802-b9f6-7a73bc2a8834-6</td>\n",
       "      <td>University at Buffalo (SUNY), School of Manage...</td>\n",
       "      <td>Rutgers Business School</td>\n",
       "      <td>NaN</td>\n",
       "      <td>NaN</td>\n",
       "      <td>8.28</td>\n",
       "      <td>...</td>\n",
       "      <td>NaN</td>\n",
       "      <td>Application@2024</td>\n",
       "      <td>0.0</td>\n",
       "      <td>NaN</td>\n",
       "      <td>NaN</td>\n",
       "      <td>NaN</td>\n",
       "      <td>NaN</td>\n",
       "      <td>Fall (Dropped)</td>\n",
       "      <td>NaN</td>\n",
       "      <td>NaN</td>\n",
       "    </tr>\n",
       "    <tr>\n",
       "      <th>55</th>\n",
       "      <td>Ashish</td>\n",
       "      <td>Diptikanta Jena</td>\n",
       "      <td>45273</td>\n",
       "      <td>Drexel</td>\n",
       "      <td>l:1293647514650937</td>\n",
       "      <td>Drexel University, College of Computing Inform...</td>\n",
       "      <td>Drexel University, College of Engineering</td>\n",
       "      <td>NaN</td>\n",
       "      <td>NaN</td>\n",
       "      <td>F</td>\n",
       "      <td>...</td>\n",
       "      <td>NaN</td>\n",
       "      <td>NaN</td>\n",
       "      <td>0.0</td>\n",
       "      <td>NaN</td>\n",
       "      <td>NaN</td>\n",
       "      <td>NaN</td>\n",
       "      <td>NaN</td>\n",
       "      <td>Fall (Dropped)</td>\n",
       "      <td>NaN</td>\n",
       "      <td>NaN</td>\n",
       "    </tr>\n",
       "  </tbody>\n",
       "</table>\n",
       "<p>5 rows × 142 columns</p>\n",
       "</div>"
      ],
      "text/plain": [
       "   Candidate Name     Counselor Name Block Amount Received Date  \\\n",
       "15         Verana    Diptikanta Jena                      45205   \n",
       "46        Shirish    Diptikanta Jena                      45260   \n",
       "53          Tanya    Diptikanta Jena                      45272   \n",
       "54         Aditya  Shailendra Singh                       45273   \n",
       "55         Ashish    Diptikanta Jena                      45273   \n",
       "\n",
       "           Univ. Pitched                                 Lead Id  \\\n",
       "15                DePaul                       l:747863164109985   \n",
       "46         DePaul/Tulane  5ce45626-39b0-49cf-b777-51a3a5f2880d-6   \n",
       "53      Fairfield/DePaul                       l:900041774843171   \n",
       "54  Drexel/SUNY/RBS/CWRU  23d26a27-e361-4802-b9f6-7a73bc2a8834-6   \n",
       "55                Drexel                      l:1293647514650937   \n",
       "\n",
       "                       Candidate Preferred College #1  \\\n",
       "15                                                NaN   \n",
       "46       DePaul Kellstadt Graduate School of Business   \n",
       "53       DePaul Kellstadt Graduate School of Business   \n",
       "54  University at Buffalo (SUNY), School of Manage...   \n",
       "55  Drexel University, College of Computing Inform...   \n",
       "\n",
       "               Candidate Preferred College #2 10th Percentage   \\\n",
       "15                                        NaN              NaN   \n",
       "46     Clark University, School of Management              NaN   \n",
       "53          RIT, Saunders College of Business              NaN   \n",
       "54                    Rutgers Business School              NaN   \n",
       "55  Drexel University, College of Engineering              NaN   \n",
       "\n",
       "   12th Percentange UG - CGPA (out of 10)   ... Offer Letter Submission Date  \\\n",
       "15              NaN                    NaN  ...                          NaN   \n",
       "46              NaN                   7.19  ...                          NaN   \n",
       "53              NaN     6.34 ( 1 backlog )  ...                          NaN   \n",
       "54              NaN                   8.28  ...                          NaN   \n",
       "55              NaN                      F  ...                          NaN   \n",
       "\n",
       "                  .9 Financials Submission Financials Submission Date  \\\n",
       "15               NaN                   0.0                        NaN   \n",
       "46               NaN                   1.0                        NaN   \n",
       "53               NaN                   0.0                        NaN   \n",
       "54  Application@2024                   0.0                        NaN   \n",
       "55               NaN                   0.0                        NaN   \n",
       "\n",
       "   i20 Provisioned i20 Provisioned Date Remarks               Status   \\\n",
       "15             NaN                  NaN     NaN  Defer Fall (Dropped)   \n",
       "46        Received                45599     NaN                  Fall   \n",
       "53             NaN                  NaN     NaN                  Fall   \n",
       "54             NaN                  NaN     NaN        Fall (Dropped)   \n",
       "55             NaN                  NaN     NaN        Fall (Dropped)   \n",
       "\n",
       "   SOP Status  .10  \n",
       "15        NaN  NaN  \n",
       "46        NaN  NaN  \n",
       "53        NaN  NaN  \n",
       "54        NaN  NaN  \n",
       "55        NaN  NaN  \n",
       "\n",
       "[5 rows x 142 columns]"
      ]
     },
     "execution_count": 132,
     "metadata": {},
     "output_type": "execute_result"
    }
   ],
   "source": [
    "ndf.head()"
   ]
  },
  {
   "cell_type": "code",
   "execution_count": 133,
   "metadata": {},
   "outputs": [
    {
     "data": {
      "text/plain": [
       "np.int64(0)"
      ]
     },
     "execution_count": 133,
     "metadata": {},
     "output_type": "execute_result"
    }
   ],
   "source": [
    "ndf['Candidate Name'].isnull().sum()"
   ]
  },
  {
   "cell_type": "code",
   "execution_count": 134,
   "metadata": {},
   "outputs": [
    {
     "data": {
      "text/plain": [
       "np.int64(1)"
      ]
     },
     "execution_count": 134,
     "metadata": {},
     "output_type": "execute_result"
    }
   ],
   "source": [
    "ndf['Block Amount Received Date'].isnull().sum()"
   ]
  },
  {
   "cell_type": "code",
   "execution_count": 135,
   "metadata": {},
   "outputs": [
    {
     "data": {
      "text/plain": [
       "np.int64(1)"
      ]
     },
     "execution_count": 135,
     "metadata": {},
     "output_type": "execute_result"
    }
   ],
   "source": [
    "ndf['Block Amount Received Date'].isnull().sum()"
   ]
  },
  {
   "cell_type": "code",
   "execution_count": 136,
   "metadata": {},
   "outputs": [
    {
     "data": {
      "text/plain": [
       "Candidate Name                 object\n",
       "Counselor Name                 object\n",
       "Block Amount Received Date     object\n",
       "Univ. Pitched                  object\n",
       "Lead Id                        object\n",
       "                               ...   \n",
       "i20 Provisioned Date           object\n",
       "Remarks                        object\n",
       "Status                         object\n",
       "SOP Status                    float64\n",
       " .10                          float64\n",
       "Length: 142, dtype: object"
      ]
     },
     "execution_count": 136,
     "metadata": {},
     "output_type": "execute_result"
    }
   ],
   "source": [
    "ndf.dtypes"
   ]
  },
  {
   "cell_type": "code",
   "execution_count": 137,
   "metadata": {},
   "outputs": [
    {
     "name": "stdout",
     "output_type": "stream",
     "text": [
      "Candidate Name                        object\n",
      "Counselor Name                        object\n",
      "Block Amount Received Date    datetime64[ns]\n",
      "Univ. Pitched                         object\n",
      "Lead Id                               object\n",
      "                                   ...      \n",
      "i20 Provisioned Date                  object\n",
      "Remarks                               object\n",
      "Status                                object\n",
      "SOP Status                           float64\n",
      " .10                                 float64\n",
      "Length: 142, dtype: object\n"
     ]
    }
   ],
   "source": [
    "df['Block Amount Received Date'] = pd.to_datetime(df['Block Amount Received Date'], errors='coerce')\n",
    "print(df.dtypes)\n"
   ]
  },
  {
   "cell_type": "code",
   "execution_count": 138,
   "metadata": {},
   "outputs": [
    {
     "data": {
      "text/plain": [
       "142"
      ]
     },
     "execution_count": 138,
     "metadata": {},
     "output_type": "execute_result"
    }
   ],
   "source": [
    "len(ndf.columns)"
   ]
  },
  {
   "cell_type": "code",
   "execution_count": 139,
   "metadata": {},
   "outputs": [
    {
     "name": "stdout",
     "output_type": "stream",
     "text": [
      "Candidate Name : 0\n",
      "Counselor Name : 0\n",
      "Block Amount Received Date : 1\n",
      "Univ. Pitched : 47\n",
      "Lead Id : 0\n",
      "Candidate Preferred College #1 : 11\n",
      "Candidate Preferred College #2 : 39\n",
      "10th Percentage  : 63\n",
      "12th Percentange : 63\n",
      "UG - CGPA (out of 10)  : 13\n",
      "GPA (Out of 4) : 15\n",
      "PG - CGPA or % : 101\n",
      "Work Exp. : 16\n",
      "Highest Education : 60\n",
      "Designation - Company Name  : 64\n",
      "Candidate Application Status : 0\n",
      "Candidate Loan Status : 0\n",
      "Remarks - General : 8\n",
      "Reason for dropping : 114\n",
      "If dropped, mention stage of the application : 126\n",
      "  : 129\n",
      "KYC & Acad Documents Received : 1\n",
      "Tech Exam Scores : 78\n",
      "Coding Test Score : 79\n",
      "English Exam Scores : 80\n",
      "Exam Taking Date : 77\n",
      "English Interview Score (15) : 88\n",
      "Tech. interview Score (10) : 91\n",
      " .1 : 129\n",
      "Application Type : 34\n",
      "Intake Status : 0\n",
      " .2 : 129\n",
      "Choice of School #1 : 18\n",
      "Choice of Program #1 : 18\n",
      "Passport #1 : 3\n",
      "Resume #1 : 3\n",
      "Degree #1 : 3\n",
      "Transcript #1 : 3\n",
      "Application Fee #1 : 3\n",
      "LOR #1 : 3\n",
      "SOP #1 : 3\n",
      "Pending Stage #1 : 4\n",
      "Application Status #1 : 18\n",
      "Application Initation Date #1 : 43\n",
      "App Partially Submitted Date #1 : 85\n",
      "Application Submission Date #1 : 34\n",
      "Offer Letter #1 : 47\n",
      "Offer Letter Provision Date #1 : 72\n",
      "Deposit #1 : 8\n",
      "Deposit Date Paid #1 : 94\n",
      " .3 : 129\n",
      "Choice of School #2 : 47\n",
      "Choice of Program #2 : 47\n",
      "Application Fee #2 : 4\n",
      "LOR #2 : 4\n",
      "SOP #2 : 4\n",
      "Pending Stage #2 : 3\n",
      "Application Status #2 : 47\n",
      "Application Initation Date #2 : 62\n",
      "App Partially Submitted Date #2 : 100\n",
      "Application Submission Date #2 : 66\n",
      "Offer Letter #2 : 70\n",
      "Offer Letter Provision Date #2 : 89\n",
      "Deposit #2 : 6\n",
      "Deposit Date Paid #2 : 115\n",
      " .4 : 129\n",
      "Choice of School #3 : 106\n",
      "Choice of Program #3 : 106\n",
      "Application Fee #3 : 6\n",
      "LOR #3 : 6\n",
      "SOP #3 : 6\n",
      "Pending Stage #3 : 5\n",
      "Application Status #3 : 106\n",
      "Application Initation Date #3 : 106\n",
      "App Partially Submitted Date #3 : 122\n",
      "Application Submission Date #3 : 109\n",
      "Offer Letter #3 : 109\n",
      "Offer Letter Provision Date #3 : 122\n",
      "Deposit #3 : 125\n",
      "Deposit Date Paid #3 : 127\n",
      "Remarks #3 (If Rejected) : 129\n",
      " .5 : 129\n",
      "Choice of School #4 : 122\n",
      "Choice of Program #4 : 122\n",
      "Application Fee #4 : 7\n",
      "LOR #4 : 7\n",
      "SOP #4 : 7\n",
      "Pending Stage #4 : 7\n",
      "Application Status #4 : 122\n",
      "Application Initation Date #4 : 122\n",
      "App Partially Submitted Date #4 : 127\n",
      "Application Submission Date #4 : 126\n",
      "Offer Letter #4 : 126\n",
      "Offer Letter Provision Date #4 : 127\n",
      "Deposit #4 : 128\n",
      "Deposit Date Paid #4 : 128\n",
      "Remarks #4 (If Rejected) : 129\n",
      " .6 : 129\n",
      "Choice of School #5 : 128\n",
      "Choice of Program #5 : 128\n",
      "Application Fee #5 : 7\n",
      "LOR #5 : 7\n",
      "SOP #5 : 7\n",
      "Pending Stage #5 : 8\n",
      "Application Status #5 : 128\n",
      "Application Initation Date #5 : 128\n",
      "App Partially Submitted Date #5 : 128\n",
      "Application Submission Date #5 : 128\n",
      "Offer Letter #5 : 128\n",
      "Offer Letter Provision Date #5 : 128\n",
      "Deposit #5 : 128\n",
      "Deposit Date Paid #5 : 128\n",
      "Remarks #5 (If Rejected) : 129\n",
      " .7 : 129\n",
      "IIM / IIT  Status : 0\n",
      " Loan Status : 0\n",
      "Loan Partner I : 123\n",
      "Loan Partner II : 127\n",
      "Loan Application Submit Date : 129\n",
      "Existing Loan : 124\n",
      "CIBIL SCORE : 43\n",
      "No. of defaults : 128\n",
      " .8 : 127\n",
      "Aadhar Card : 17\n",
      "PAN Card : 17\n",
      "Passport : 17\n",
      "CV/Resume : 17\n",
      "CIBIL Score : 17\n",
      "Bank Statement (Savings - 6mo) : 17\n",
      "Affidavit Letter : 17\n",
      "Sponsorship Letter : 17\n",
      "Offer Letter : 17\n",
      "Offer Letter Submission Date : 129\n",
      " .9 : 128\n",
      "Financials Submission : 17\n",
      "Financials Submission Date : 129\n",
      "i20 Provisioned : 105\n",
      "i20 Provisioned Date : 126\n",
      "Remarks : 127\n",
      "Status  : 0\n",
      "SOP Status : 129\n",
      " .10 : 129\n"
     ]
    }
   ],
   "source": [
    "for x in ndf.columns:\n",
    "    print(f\"{x} : {ndf[x].isnull().sum()}\")"
   ]
  },
  {
   "cell_type": "code",
   "execution_count": 140,
   "metadata": {},
   "outputs": [
    {
     "data": {
      "text/plain": [
       "Candidate Name                  0\n",
       "Counselor Name                  0\n",
       "Block Amount Received Date      1\n",
       "Univ. Pitched                  47\n",
       "Lead Id                         0\n",
       "                             ... \n",
       "i20 Provisioned Date          126\n",
       "Remarks                       127\n",
       "Status                          0\n",
       "SOP Status                    129\n",
       " .10                          129\n",
       "Length: 142, dtype: int64"
      ]
     },
     "execution_count": 140,
     "metadata": {},
     "output_type": "execute_result"
    }
   ],
   "source": [
    "ndf.isnull().sum()"
   ]
  },
  {
   "cell_type": "code",
   "execution_count": 141,
   "metadata": {},
   "outputs": [
    {
     "data": {
      "text/plain": [
       "array(['DePaul', 'DePaul/Tulane', 'Fairfield/DePaul',\n",
       "       'Drexel/SUNY/RBS/CWRU', 'Drexel', 'Depaul/Akron', 'Drexel MBA',\n",
       "       'Tulane/Rutgers', 'Drexel (MBA)/Clark (MBA)', 'Drexel/Tulane',\n",
       "       'SUNY', 'Drexel / Clark', 'Case Western, Rutgers, SUNY Buffalo',\n",
       "       'RIT, Rutgers, SUNY Buffalo', 'Drexel / Tulane', 'Clark / Drexel',\n",
       "       'SUNY / Rutgers', 'DePaul / Drexel', 'RUTGERS (VG sir approved)',\n",
       "       'SUNY / West Texas', 'SUNY Buffalo/ Rider',\n",
       "       'Drexel ML Engineering, RIT Packaging Science', 'Rider',\n",
       "       'Sunny/Rutgers', 'Drexel/CWRU', nan, 'Drexel/Clark',\n",
       "       'Depaul/Drexel', 'Drexel (MBA) ', 'RIT/Sunny', 'RIT/ Rider',\n",
       "       'SUNY/DePaul', 'Rutgers/SUNY', 'CWRU/SUNY',\n",
       "       'Drexel/West Texas A&M University', 'Rider/Depaul', 'Sunny/Tulane',\n",
       "       'Fairfield/Sunny', 'VG Sir suggetsed DePaul,Tulane and Sunny',\n",
       "       'Fairfield/Akron', 'Drexel/Pace', 'Casewestern/Rutgers',\n",
       "       'SUNY, Drexel', 'SUNY, Depaul',\n",
       "       'VG sir Suggested Drexel Eng Mang & Mba for this profile ',\n",
       "       'Depaul/Rider', 'Drexel/ Tulane', 'Rider/ Texas', 'RIT/Pace',\n",
       "       'Drexel/ pace', 'Depaul/sunny', 'Rit/ Akron', 'Fairfield/ Depaul',\n",
       "       'Depaul/Sunny', 'sunny/Case western', 'Rider/West Texas',\n",
       "       'Rutgers', 'RIT/Drexel', 'Tulane/Drexel', 'Sunny/RIT',\n",
       "       'RIT/Depaul', 'Depaul', 'Sunny', 'Fairfeild/Depaul', 'Drexel/RIT',\n",
       "       'Pace/Drexel', 'Depaul/Fairfield', 'Case western/ Sunny',\n",
       "       'drexel/rider', 'Clark'], dtype=object)"
      ]
     },
     "execution_count": 141,
     "metadata": {},
     "output_type": "execute_result"
    }
   ],
   "source": [
    "ndf['Univ. Pitched'].unique()"
   ]
  },
  {
   "cell_type": "code",
   "execution_count": 142,
   "metadata": {},
   "outputs": [
    {
     "name": "stderr",
     "output_type": "stream",
     "text": [
      "C:\\Users\\SIDDHARTH\\AppData\\Local\\Temp\\ipykernel_11372\\3871085107.py:1: SettingWithCopyWarning: \n",
      "A value is trying to be set on a copy of a slice from a DataFrame.\n",
      "Try using .loc[row_indexer,col_indexer] = value instead\n",
      "\n",
      "See the caveats in the documentation: https://pandas.pydata.org/pandas-docs/stable/user_guide/indexing.html#returning-a-view-versus-a-copy\n",
      "  ndf['Univ. Pitched'] = ndf['Univ. Pitched'].replace('', 'NA')\n"
     ]
    }
   ],
   "source": [
    "ndf['Univ. Pitched'] = ndf['Univ. Pitched'].replace('', 'NA')"
   ]
  },
  {
   "cell_type": "code",
   "execution_count": 143,
   "metadata": {},
   "outputs": [],
   "source": [
    "ndf.loc[ndf['Univ. Pitched'].isnull(), 'Univ. Pitched'] = 'NA'"
   ]
  },
  {
   "cell_type": "code",
   "execution_count": 144,
   "metadata": {},
   "outputs": [
    {
     "data": {
      "text/plain": [
       "np.int64(0)"
      ]
     },
     "execution_count": 144,
     "metadata": {},
     "output_type": "execute_result"
    }
   ],
   "source": [
    "ndf['Univ. Pitched'].isnull().sum()"
   ]
  },
  {
   "cell_type": "code",
   "execution_count": 145,
   "metadata": {},
   "outputs": [],
   "source": [
    "ndf.loc[ndf['Candidate Preferred College #1'].isnull(), 'Candidate Preferred College #1'] = 'NA'"
   ]
  },
  {
   "cell_type": "code",
   "execution_count": 146,
   "metadata": {},
   "outputs": [],
   "source": [
    "ndf.loc[ndf['Candidate Preferred College #2'].isnull(), 'Candidate Preferred College #2'] = 'NA'"
   ]
  },
  {
   "cell_type": "code",
   "execution_count": null,
   "metadata": {},
   "outputs": [],
   "source": []
  },
  {
   "cell_type": "code",
   "execution_count": 147,
   "metadata": {},
   "outputs": [
    {
     "name": "stderr",
     "output_type": "stream",
     "text": [
      "C:\\Users\\SIDDHARTH\\AppData\\Local\\Temp\\ipykernel_11372\\2264328469.py:1: SettingWithCopyWarning: \n",
      "A value is trying to be set on a copy of a slice from a DataFrame.\n",
      "Try using .loc[row_indexer,col_indexer] = value instead\n",
      "\n",
      "See the caveats in the documentation: https://pandas.pydata.org/pandas-docs/stable/user_guide/indexing.html#returning-a-view-versus-a-copy\n",
      "  ndf['10th Percentage '] = ndf['10th Percentage '].astype(str).replace('GPA', '')\n"
     ]
    }
   ],
   "source": [
    "ndf['10th Percentage '] = ndf['10th Percentage '].astype(str).replace('GPA', '')"
   ]
  },
  {
   "cell_type": "code",
   "execution_count": 148,
   "metadata": {},
   "outputs": [
    {
     "data": {
      "text/plain": [
       "array(['nan', '0.552', '74', '95', '80', '81.7', '0.082', '90', '57.76',\n",
       "       '74.91', '82.8', '0.566', '69.06', '0.458', '78.8', '90.6',\n",
       "       '0.466', '74.8', '40', '88', '47.6', '92.8', '0.674', '8.8 GPA',\n",
       "       '66.8', '0.65', '92', '7.0 GPA', '9.4 GPA', '63.4', '58.6',\n",
       "       '5.8 CGPA', '51.5', '93.6', '93', '92.15', '79.82', '79.8', '87.4',\n",
       "       '66.28', '93.82', '89.3', '79.3', '83.6', 'A+', '72.2', '66.2',\n",
       "       '84.33', '92.4', '87', '67.2', '77.83', '65', '6.3', '77.33',\n",
       "       '87.85', '88.18', '91.2'], dtype=object)"
      ]
     },
     "execution_count": 148,
     "metadata": {},
     "output_type": "execute_result"
    }
   ],
   "source": [
    "ndf['10th Percentage '].unique()"
   ]
  },
  {
   "cell_type": "code",
   "execution_count": 149,
   "metadata": {},
   "outputs": [
    {
     "data": {
      "text/plain": [
       "array(['nan', '0.552', '74', '95', '80', '81.7', '0.082', '90', '57.76',\n",
       "       '74.91', '82.8', '0.566', '69.06', '0.458', '78.8', '90.6',\n",
       "       '0.466', '74.8', '40', '88', '47.6', '92.8', '0.674', '8.8 GPA',\n",
       "       '66.8', '0.65', '92', '7.0 GPA', '9.4 GPA', '63.4', '58.6',\n",
       "       '5.8 CGPA', '51.5', '93.6', '93', '92.15', '79.82', '79.8', '87.4',\n",
       "       '66.28', '93.82', '89.3', '79.3', '83.6', 'A+', '72.2', '66.2',\n",
       "       '84.33', '92.4', '87', '67.2', '77.83', '65', '6.3', '77.33',\n",
       "       '87.85', '88.18', '91.2'], dtype=object)"
      ]
     },
     "execution_count": 149,
     "metadata": {},
     "output_type": "execute_result"
    }
   ],
   "source": [
    "ndf['10th Percentage '].unique()"
   ]
  },
  {
   "cell_type": "code",
   "execution_count": null,
   "metadata": {},
   "outputs": [],
   "source": []
  },
  {
   "cell_type": "code",
   "execution_count": 118,
   "metadata": {},
   "outputs": [
    {
     "data": {
      "text/plain": [
       "58"
      ]
     },
     "execution_count": 118,
     "metadata": {},
     "output_type": "execute_result"
    }
   ],
   "source": [
    "len(ndf['10th Percentage '].unique())"
   ]
  },
  {
   "cell_type": "code",
   "execution_count": 119,
   "metadata": {},
   "outputs": [
    {
     "data": {
      "text/plain": [
       "dtype('O')"
      ]
     },
     "execution_count": 119,
     "metadata": {},
     "output_type": "execute_result"
    }
   ],
   "source": [
    "ndf['10th Percentage '].dtypes"
   ]
  },
  {
   "cell_type": "code",
   "execution_count": 152,
   "metadata": {},
   "outputs": [
    {
     "name": "stdout",
     "output_type": "stream",
     "text": [
      "[nan 8.8 7.0 9.4 5.8]\n"
     ]
    }
   ],
   "source": [
    "def clean_p(value):\n",
    "    if isinstance(value, str):\n",
    "        if 'GPA' in value or 'CGPA' in value:\n",
    "            return float(value.split()[0])\n",
    "    else:\n",
    "        return value\n",
    "    \n",
    "ndf.loc[:, '10th Percentage '] = ndf['10th Percentage '].apply(clean_p)\n",
    "ndf.loc[:, '10th Percentage '] = ndf['10th Percentage '].astype(float)\n",
    "print(ndf['10th Percentage '].unique())"
   ]
  },
  {
   "cell_type": "code",
   "execution_count": 153,
   "metadata": {},
   "outputs": [
    {
     "data": {
      "text/plain": [
       "array([nan, 8.8, 7.0, 9.4, 5.8], dtype=object)"
      ]
     },
     "execution_count": 153,
     "metadata": {},
     "output_type": "execute_result"
    }
   ],
   "source": [
    "ndf['10th Percentage '].unique()"
   ]
  },
  {
   "cell_type": "code",
   "execution_count": 157,
   "metadata": {},
   "outputs": [
    {
     "name": "stderr",
     "output_type": "stream",
     "text": [
      "C:\\Users\\SIDDHARTH\\AppData\\Local\\Temp\\ipykernel_11372\\4264241042.py:1: SettingWithCopyWarning: \n",
      "A value is trying to be set on a copy of a slice from a DataFrame\n",
      "\n",
      "See the caveats in the documentation: https://pandas.pydata.org/pandas-docs/stable/user_guide/indexing.html#returning-a-view-versus-a-copy\n",
      "  ndf.loc['10th Percentage ', ndf['10th Percentage ']] = ndf['10th Percentage '].astype(str)\n"
     ]
    }
   ],
   "source": [
    "ndf.loc['10th Percentage ', ndf['10th Percentage ']] = ndf['10th Percentage '].astype(str)"
   ]
  },
  {
   "cell_type": "code",
   "execution_count": 159,
   "metadata": {},
   "outputs": [
    {
     "data": {
      "text/plain": [
       "dtype('O')"
      ]
     },
     "execution_count": 159,
     "metadata": {},
     "output_type": "execute_result"
    }
   ],
   "source": [
    "ndf['10th Percentage '].dtypes"
   ]
  },
  {
   "cell_type": "code",
   "execution_count": null,
   "metadata": {},
   "outputs": [],
   "source": []
  }
 ],
 "metadata": {
  "kernelspec": {
   "display_name": "Python-sB2PqcsS",
   "language": "python",
   "name": "python3"
  },
  "language_info": {
   "codemirror_mode": {
    "name": "ipython",
    "version": 3
   },
   "file_extension": ".py",
   "mimetype": "text/x-python",
   "name": "python",
   "nbconvert_exporter": "python",
   "pygments_lexer": "ipython3",
   "version": "3.12.4"
  }
 },
 "nbformat": 4,
 "nbformat_minor": 2
}
