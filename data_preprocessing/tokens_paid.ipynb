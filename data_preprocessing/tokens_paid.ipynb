{
 "cells": [
  {
   "cell_type": "code",
   "execution_count": 1,
   "metadata": {},
   "outputs": [],
   "source": [
    "import numpy as np\n",
    "import pandas as pd\n",
    "import matplotlib.pyplot as plt"
   ]
  },
  {
   "cell_type": "code",
   "execution_count": 2,
   "metadata": {},
   "outputs": [],
   "source": [
    "df = pd.DataFrame(pd.read_excel(r\"F:\\LPU\\Data\\Datasets\\Internship datasets\\UsPathway\\US Pathway Complete Data.xlsx\", sheet_name='Tokens Paid'))"
   ]
  },
  {
   "cell_type": "code",
   "execution_count": 3,
   "metadata": {},
   "outputs": [
    {
     "data": {
      "text/plain": [
       "Name                  0\n",
       "Lead ID             146\n",
       "created_date          1\n",
       "paid_date             0\n",
       "cohort                0\n",
       "source                5\n",
       "agent                 0\n",
       "counsellor            2\n",
       "prospect_id           2\n",
       "upload_timestamp    267\n",
       "status               26\n",
       "dtype: int64"
      ]
     },
     "execution_count": 3,
     "metadata": {},
     "output_type": "execute_result"
    }
   ],
   "source": [
    "df.isnull().sum()"
   ]
  },
  {
   "cell_type": "code",
   "execution_count": 4,
   "metadata": {},
   "outputs": [
    {
     "data": {
      "text/plain": [
       "267"
      ]
     },
     "execution_count": 4,
     "metadata": {},
     "output_type": "execute_result"
    }
   ],
   "source": [
    "len(df)"
   ]
  },
  {
   "cell_type": "code",
   "execution_count": 5,
   "metadata": {},
   "outputs": [
    {
     "data": {
      "text/html": [
       "<div>\n",
       "<style scoped>\n",
       "    .dataframe tbody tr th:only-of-type {\n",
       "        vertical-align: middle;\n",
       "    }\n",
       "\n",
       "    .dataframe tbody tr th {\n",
       "        vertical-align: top;\n",
       "    }\n",
       "\n",
       "    .dataframe thead th {\n",
       "        text-align: right;\n",
       "    }\n",
       "</style>\n",
       "<table border=\"1\" class=\"dataframe\">\n",
       "  <thead>\n",
       "    <tr style=\"text-align: right;\">\n",
       "      <th></th>\n",
       "      <th>Name</th>\n",
       "      <th>Lead ID</th>\n",
       "      <th>created_date</th>\n",
       "      <th>paid_date</th>\n",
       "      <th>cohort</th>\n",
       "      <th>source</th>\n",
       "      <th>agent</th>\n",
       "      <th>counsellor</th>\n",
       "      <th>prospect_id</th>\n",
       "      <th>upload_timestamp</th>\n",
       "      <th>status</th>\n",
       "    </tr>\n",
       "  </thead>\n",
       "  <tbody>\n",
       "    <tr>\n",
       "      <th>17</th>\n",
       "      <td>Srija</td>\n",
       "      <td>l:1501566724035844</td>\n",
       "      <td>2024-04-13</td>\n",
       "      <td>2024-05-02</td>\n",
       "      <td>Cohort 2</td>\n",
       "      <td>Facebook</td>\n",
       "      <td>payal dhiman</td>\n",
       "      <td>Shashwat</td>\n",
       "      <td>23d84277-bb77-4b58-a9ee-2d36c4c7ac76</td>\n",
       "      <td>NaN</td>\n",
       "      <td>ACTIVE TOKEN</td>\n",
       "    </tr>\n",
       "    <tr>\n",
       "      <th>18</th>\n",
       "      <td>Satyam</td>\n",
       "      <td>d552642c-6784-4d5d-a545-0e926458e848-3</td>\n",
       "      <td>2024-03-18</td>\n",
       "      <td>2024-03-19</td>\n",
       "      <td>Cohort 2</td>\n",
       "      <td>Linkedin</td>\n",
       "      <td>payal dhiman</td>\n",
       "      <td>Shailendra singh</td>\n",
       "      <td>9534b162-f601-4a4c-aa56-03f71d73a652</td>\n",
       "      <td>NaN</td>\n",
       "      <td>ACTIVE TOKEN</td>\n",
       "    </tr>\n",
       "    <tr>\n",
       "      <th>24</th>\n",
       "      <td>Tanya</td>\n",
       "      <td>l:900041774843171</td>\n",
       "      <td>2023-11-30</td>\n",
       "      <td>2023-12-12</td>\n",
       "      <td>Cohort 2</td>\n",
       "      <td>Facebook</td>\n",
       "      <td>Vaibhav Kumar Sharma</td>\n",
       "      <td>Diptikanta Jena</td>\n",
       "      <td>fc411dd9-9a3c-43af-b9a4-e9155e756031</td>\n",
       "      <td>NaN</td>\n",
       "      <td>ACTIVE TOKEN</td>\n",
       "    </tr>\n",
       "    <tr>\n",
       "      <th>28</th>\n",
       "      <td>Ashish</td>\n",
       "      <td>l:1293647514650937</td>\n",
       "      <td>2023-12-06</td>\n",
       "      <td>2023-12-13</td>\n",
       "      <td>Cohort 2</td>\n",
       "      <td>Facebook</td>\n",
       "      <td>Vaibhav Kumar Sharma</td>\n",
       "      <td>Diptikanta Jena</td>\n",
       "      <td>40deb473-11f6-4da6-9fd0-75f1f3075b86</td>\n",
       "      <td>NaN</td>\n",
       "      <td>ACTIVE TOKEN</td>\n",
       "    </tr>\n",
       "    <tr>\n",
       "      <th>32</th>\n",
       "      <td>Satheesh</td>\n",
       "      <td>l:1519452715578667</td>\n",
       "      <td>2024-02-18</td>\n",
       "      <td>2024-03-15</td>\n",
       "      <td>Cohort 2</td>\n",
       "      <td>Facebook</td>\n",
       "      <td>Sagar Tiwari</td>\n",
       "      <td>Shailendra singh</td>\n",
       "      <td>b12ebd59-c99e-45c9-b278-45764fe7f5cb</td>\n",
       "      <td>NaN</td>\n",
       "      <td>ACTIVE TOKEN</td>\n",
       "    </tr>\n",
       "  </tbody>\n",
       "</table>\n",
       "</div>"
      ],
      "text/plain": [
       "        Name                                 Lead ID created_date  paid_date  \\\n",
       "17     Srija                      l:1501566724035844   2024-04-13 2024-05-02   \n",
       "18    Satyam  d552642c-6784-4d5d-a545-0e926458e848-3   2024-03-18 2024-03-19   \n",
       "24     Tanya                       l:900041774843171   2023-11-30 2023-12-12   \n",
       "28    Ashish                      l:1293647514650937   2023-12-06 2023-12-13   \n",
       "32  Satheesh                      l:1519452715578667   2024-02-18 2024-03-15   \n",
       "\n",
       "      cohort    source                 agent        counsellor  \\\n",
       "17  Cohort 2  Facebook          payal dhiman          Shashwat   \n",
       "18  Cohort 2  Linkedin          payal dhiman  Shailendra singh   \n",
       "24  Cohort 2  Facebook  Vaibhav Kumar Sharma   Diptikanta Jena   \n",
       "28  Cohort 2  Facebook  Vaibhav Kumar Sharma   Diptikanta Jena   \n",
       "32  Cohort 2  Facebook          Sagar Tiwari  Shailendra singh   \n",
       "\n",
       "                             prospect_id  upload_timestamp        status  \n",
       "17  23d84277-bb77-4b58-a9ee-2d36c4c7ac76               NaN  ACTIVE TOKEN  \n",
       "18  9534b162-f601-4a4c-aa56-03f71d73a652               NaN  ACTIVE TOKEN  \n",
       "24  fc411dd9-9a3c-43af-b9a4-e9155e756031               NaN  ACTIVE TOKEN  \n",
       "28  40deb473-11f6-4da6-9fd0-75f1f3075b86               NaN  ACTIVE TOKEN  \n",
       "32  b12ebd59-c99e-45c9-b278-45764fe7f5cb               NaN  ACTIVE TOKEN  "
      ]
     },
     "execution_count": 5,
     "metadata": {},
     "output_type": "execute_result"
    }
   ],
   "source": [
    "tokens_clean = df[df['Lead ID'].notnull()]\n",
    "tokens_clean.head()"
   ]
  },
  {
   "cell_type": "code",
   "execution_count": 6,
   "metadata": {},
   "outputs": [
    {
     "data": {
      "text/plain": [
       "121"
      ]
     },
     "execution_count": 6,
     "metadata": {},
     "output_type": "execute_result"
    }
   ],
   "source": [
    "len(tokens_clean)"
   ]
  },
  {
   "cell_type": "code",
   "execution_count": 7,
   "metadata": {},
   "outputs": [
    {
     "data": {
      "text/plain": [
       "Name                  0\n",
       "Lead ID               0\n",
       "created_date          0\n",
       "paid_date             0\n",
       "cohort                0\n",
       "source                0\n",
       "agent                 0\n",
       "counsellor            0\n",
       "prospect_id           1\n",
       "upload_timestamp    121\n",
       "status                0\n",
       "dtype: int64"
      ]
     },
     "execution_count": 7,
     "metadata": {},
     "output_type": "execute_result"
    }
   ],
   "source": [
    "tokens_clean.isnull().sum()"
   ]
  },
  {
   "cell_type": "code",
   "execution_count": 8,
   "metadata": {},
   "outputs": [],
   "source": [
    "tokens_clean=tokens_clean.drop('upload_timestamp', axis=1)"
   ]
  },
  {
   "cell_type": "code",
   "execution_count": 9,
   "metadata": {},
   "outputs": [
    {
     "data": {
      "text/plain": [
       "121"
      ]
     },
     "execution_count": 9,
     "metadata": {},
     "output_type": "execute_result"
    }
   ],
   "source": [
    "len(tokens_clean)"
   ]
  },
  {
   "cell_type": "code",
   "execution_count": 10,
   "metadata": {},
   "outputs": [
    {
     "data": {
      "text/plain": [
       "Name                    object\n",
       "Lead ID                 object\n",
       "created_date    datetime64[ns]\n",
       "paid_date       datetime64[ns]\n",
       "cohort                  object\n",
       "source                  object\n",
       "agent                   object\n",
       "counsellor              object\n",
       "prospect_id             object\n",
       "status                  object\n",
       "dtype: object"
      ]
     },
     "execution_count": 10,
     "metadata": {},
     "output_type": "execute_result"
    }
   ],
   "source": [
    "tokens_clean.dtypes"
   ]
  },
  {
   "cell_type": "code",
   "execution_count": 11,
   "metadata": {},
   "outputs": [
    {
     "data": {
      "text/plain": [
       "np.int64(1)"
      ]
     },
     "execution_count": 11,
     "metadata": {},
     "output_type": "execute_result"
    }
   ],
   "source": [
    "tokens_clean['prospect_id'].isnull().sum()"
   ]
  },
  {
   "cell_type": "code",
   "execution_count": 12,
   "metadata": {},
   "outputs": [
    {
     "data": {
      "text/plain": [
       "Name            0\n",
       "Lead ID         0\n",
       "created_date    0\n",
       "paid_date       0\n",
       "cohort          0\n",
       "source          0\n",
       "agent           0\n",
       "counsellor      0\n",
       "prospect_id     1\n",
       "status          0\n",
       "dtype: int64"
      ]
     },
     "execution_count": 12,
     "metadata": {},
     "output_type": "execute_result"
    }
   ],
   "source": [
    "tokens_clean.isnull().sum()"
   ]
  },
  {
   "cell_type": "code",
   "execution_count": 13,
   "metadata": {},
   "outputs": [
    {
     "data": {
      "text/plain": [
       "121"
      ]
     },
     "execution_count": 13,
     "metadata": {},
     "output_type": "execute_result"
    }
   ],
   "source": [
    "len(tokens_clean)"
   ]
  },
  {
   "cell_type": "code",
   "execution_count": 18,
   "metadata": {},
   "outputs": [
    {
     "name": "stderr",
     "output_type": "stream",
     "text": [
      "C:\\Users\\SIDDHARTH\\AppData\\Local\\Temp\\ipykernel_20452\\3640802590.py:1: FutureWarning: Downcasting object dtype arrays on .fillna, .ffill, .bfill is deprecated and will change in a future version. Call result.infer_objects(copy=False) instead. To opt-in to the future behavior, set `pd.set_option('future.no_silent_downcasting', True)`\n",
      "  tokens_clean = tokens_clean[tokens_clean['prospect_id'].isnull()].fillna(0)\n"
     ]
    }
   ],
   "source": [
    "tokens_clean = tokens_clean[tokens_clean['prospect_id'].isnull()].fillna(0)"
   ]
  },
  {
   "cell_type": "code",
   "execution_count": 19,
   "metadata": {},
   "outputs": [
    {
     "data": {
      "text/plain": [
       "Name            0\n",
       "Lead ID         0\n",
       "created_date    0\n",
       "paid_date       0\n",
       "cohort          0\n",
       "source          0\n",
       "agent           0\n",
       "counsellor      0\n",
       "prospect_id     0\n",
       "status          0\n",
       "dtype: int64"
      ]
     },
     "execution_count": 19,
     "metadata": {},
     "output_type": "execute_result"
    }
   ],
   "source": [
    "tokens_clean.isnull().sum()"
   ]
  },
  {
   "cell_type": "code",
   "execution_count": 20,
   "metadata": {},
   "outputs": [],
   "source": [
    "tokens_clean.to_excel('cleaned_tokens_paid.xlsx', index=False)"
   ]
  },
  {
   "cell_type": "code",
   "execution_count": null,
   "metadata": {},
   "outputs": [],
   "source": []
  }
 ],
 "metadata": {
  "kernelspec": {
   "display_name": "Python 3",
   "language": "python",
   "name": "python3"
  },
  "language_info": {
   "codemirror_mode": {
    "name": "ipython",
    "version": 3
   },
   "file_extension": ".py",
   "mimetype": "text/x-python",
   "name": "python",
   "nbconvert_exporter": "python",
   "pygments_lexer": "ipython3",
   "version": "3.12.4"
  }
 },
 "nbformat": 4,
 "nbformat_minor": 2
}
